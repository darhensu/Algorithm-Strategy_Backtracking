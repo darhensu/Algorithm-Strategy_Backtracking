{
 "cells": [
  {
   "cell_type": "markdown",
   "metadata": {},
   "source": [
    "# [ALSTRAT 2022_RB_Tubes_Kelompok 03]"
   ]
  },
  {
   "cell_type": "markdown",
   "metadata": {},
   "source": [
    "# Implementasi Algoritma Backtracking Pada Game Sudoku Menggunakan Bahasa Pemprograman Python"
   ]
  },
  {
   "cell_type": "raw",
   "metadata": {},
   "source": [
    "Anggota Kelompok 3 (RB):\n",
    "MOCHAMMAD ADITYA PUTRA SUHENDAR - 120450058\n",
    "MASAYU FRANSTIKA OKTARIA  - 120450016\n",
    "GREGORIUS GAMA ABI SURYA  - 120450018\n",
    "NAOMI NATASYA GULTOM -120450098\n",
    "MUHAMAD SYAHID BURHANUDIEN - 120450092"
   ]
  },
  {
   "cell_type": "code",
   "execution_count": 20,
   "metadata": {},
   "outputs": [],
   "source": [
    "from timeit import default_timer\n",
    "\n",
    "board = [\n",
    "    [0, 3, 0, 0, 5, 5, 5, 5, 5],\n",
    "    [5, 4, 0, 0, 1, 5, 5, 5, 0], \n",
    "    [5, 0, 0, 1, 2, 5, 0, 5, 0], \n",
    "    [0, 7, 2, 0, 0, 0, 7, 6, 5], \n",
    "    [5, 0, 7, 7, 7, 5, 5, 7, 8], \n",
    "    [5, 0, 5, 2, 0, 2, 5, 3, 5], \n",
    "    [6, 0, 0, 0, 7, 7, 7, 5, 5], \n",
    "    [0, 7, 7, 2, 7, 5, 7, 5, 5], \n",
    "    [0, 0, 5, 0, 6, 5, 3, 7, 2]\n",
    "]"
   ]
  },
  {
   "cell_type": "markdown",
   "metadata": {},
   "source": [
    "Fungsi untuk Backtracking"
   ]
  },
  {
   "cell_type": "code",
   "execution_count": 21,
   "metadata": {},
   "outputs": [],
   "source": [
    "def solve(bo):\n",
    "    #print(bo)\n",
    "    find = find_empty(bo)\n",
    "    if not find:\n",
    "        return True\n",
    "    else:\n",
    "        row, col = find    \n",
    "        \n",
    "    for i in range(1,10):\n",
    "        if valid(bo, i, (row, col)):\n",
    "            bo[row][col] = i\n",
    "            \n",
    "            if solve(bo):\n",
    "                return True\n",
    "        \n",
    "            bo[row][col] = 0\n",
    "    return False"
   ]
  },
  {
   "cell_type": "markdown",
   "metadata": {},
   "source": [
    "Fungsi untuk mengecek nilai valid (valid values)"
   ]
  },
  {
   "cell_type": "code",
   "execution_count": 22,
   "metadata": {},
   "outputs": [],
   "source": [
    "def valid(bo, num, pos):\n",
    "    \n",
    "    #checking the row (cek baris)\n",
    "    for i in range(len(bo[0])):\n",
    "        if bo[pos[0]][i] == num and pos[1] != 0:\n",
    "            return False\n",
    "        \n",
    "    #checking the column (cek kolom)\n",
    "    for j in range(len(bo)):\n",
    "        if bo[i][pos[1]] == num and pos[1] != 0:\n",
    "            return False\n",
    "        \n",
    "    #check box (cek kotak)\n",
    "    box_x = pos[1] // 3            \n",
    "    box_y = pos[0] // 3            \n",
    "    \n",
    "    for i in range(box_y*3, box_y*3 + 3):\n",
    "        for j in range(box_x*3, box_x*3 + 3):\n",
    "            if bo[i][j] == num and (i,j) != pos:\n",
    "                return False\n",
    "    return True"
   ]
  },
  {
   "cell_type": "markdown",
   "metadata": {},
   "source": [
    "Fungsi untuk memanggil papan/board"
   ]
  },
  {
   "cell_type": "code",
   "execution_count": 23,
   "metadata": {},
   "outputs": [],
   "source": [
    "def print_board(bo) :\n",
    "    \n",
    "    for i in range(len(bo)):\n",
    "        if i % 3 == 0 and i != 0:\n",
    "            print(\"--------------------\")\n",
    "        for j in range(len(bo[0])):                      #len(bo[0]) adalah panjang setiap baris\n",
    "            if j % 3 == 0 and j != 0:\n",
    "                print(\"|\",end=\"\")\n",
    "                \n",
    "            if j == 8 :\n",
    "                print(bo[i][j])\n",
    "            else:\n",
    "                print(str(bo[i][j]) + \" \", end=\"\")"
   ]
  },
  {
   "cell_type": "markdown",
   "metadata": {},
   "source": [
    "Fungsi untuk menemukan tempat kosong di papan/board"
   ]
  },
  {
   "cell_type": "code",
   "execution_count": 24,
   "metadata": {},
   "outputs": [],
   "source": [
    "def find_empty(bo):\n",
    "    \n",
    "    for i in range(len(bo)):\n",
    "        for j in range(len(bo[0])):\n",
    "            if bo[i][j] == 0 :\n",
    "                return (i, j)          #row,column\n",
    "    return None"
   ]
  },
  {
   "cell_type": "code",
   "execution_count": 25,
   "metadata": {},
   "outputs": [
    {
     "name": "stdout",
     "output_type": "stream",
     "text": [
      "Data Awal Sudoku\n",
      "0 3 0 |0 5 5 |5 5 5\n",
      "5 4 0 |0 1 5 |5 5 0\n",
      "5 0 0 |1 2 5 |0 5 0\n",
      "--------------------\n",
      "0 7 2 |0 0 0 |7 6 5\n",
      "5 0 7 |7 7 5 |5 7 8\n",
      "5 0 5 |2 0 2 |5 3 5\n",
      "--------------------\n",
      "6 0 0 |0 7 7 |7 5 5\n",
      "0 7 7 |2 7 5 |7 5 5\n",
      "0 0 5 |0 6 5 |3 7 2\n",
      "____________________\n",
      "Hasil Sudoku\n",
      "1 3 2 |4 5 5 |5 5 5\n",
      "5 4 6 |3 1 5 |5 5 7\n",
      "5 7 8 |1 2 5 |4 5 3\n",
      "--------------------\n",
      "1 7 2 |3 4 8 |7 6 5\n",
      "5 3 7 |7 7 5 |5 7 8\n",
      "5 4 5 |2 1 2 |5 3 5\n",
      "--------------------\n",
      "6 1 2 |3 7 7 |7 5 5\n",
      "3 7 7 |2 7 5 |7 5 5\n",
      "4 8 5 |1 6 5 |3 7 2\n",
      "Waktu Eksekusi :  0.004026040999974612\n"
     ]
    }
   ],
   "source": [
    "start = default_timer()\n",
    "print(\"Data Awal Sudoku\")\n",
    "print_board(board)\n",
    "solve(board)\n",
    "print(\"____________________\")\n",
    "print(\"Hasil Sudoku\")\n",
    "print_board(board)\n",
    "end = default_timer()\n",
    "print(\"Waktu Eksekusi : \",end-start)"
   ]
  },
  {
   "cell_type": "code",
   "execution_count": null,
   "metadata": {},
   "outputs": [],
   "source": []
  }
 ],
 "metadata": {
  "interpreter": {
   "hash": "27f6fea6f47ae512550f0b8facdbd035a93e1dd89633f7bf2dd00a2502c71d0d"
  },
  "kernelspec": {
   "display_name": "Python 3",
   "language": "python",
   "name": "python3"
  },
  "language_info": {
   "codemirror_mode": {
    "name": "ipython",
    "version": 3
   },
   "file_extension": ".py",
   "mimetype": "text/x-python",
   "name": "python",
   "nbconvert_exporter": "python",
   "pygments_lexer": "ipython3",
   "version": "3.8.8"
  }
 },
 "nbformat": 4,
 "nbformat_minor": 2
}
